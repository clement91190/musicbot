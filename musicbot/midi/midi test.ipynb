{
 "metadata": {
  "name": ""
 },
 "nbformat": 3,
 "nbformat_minor": 0,
 "worksheets": [
  {
   "cells": [
    {
     "cell_type": "code",
     "collapsed": false,
     "input": [
      "from utils import midiread\n",
      "import glob\n",
      "import theano\n",
      "r = (21, 109)\n",
      "dt = 0.3"
     ],
     "language": "python",
     "metadata": {},
     "outputs": [],
     "prompt_number": 23
    },
    {
     "cell_type": "code",
     "collapsed": false,
     "input": [
      "re = \"../data/JSB Chorales/train/*.mid\"\n",
      "files = glob.glob(re)\n",
      "print files\n"
     ],
     "language": "python",
     "metadata": {},
     "outputs": [
      {
       "output_type": "stream",
       "stream": "stdout",
       "text": [
        "['../data/JSB Chorales/train/70.mid', '../data/JSB Chorales/train/196.mid', '../data/JSB Chorales/train/108.mid', '../data/JSB Chorales/train/144.mid', '../data/JSB Chorales/train/40.mid', '../data/JSB Chorales/train/290.mid', '../data/JSB Chorales/train/220.mid', '../data/JSB Chorales/train/64.mid', '../data/JSB Chorales/train/318.mid', '../data/JSB Chorales/train/200.mid', '../data/JSB Chorales/train/171.mid', '../data/JSB Chorales/train/86.mid', '../data/JSB Chorales/train/186.mid', '../data/JSB Chorales/train/260.mid', '../data/JSB Chorales/train/118.mid', '../data/JSB Chorales/train/335.mid', '../data/JSB Chorales/train/67.mid', '../data/JSB Chorales/train/28.mid', '../data/JSB Chorales/train/222.mid', '../data/JSB Chorales/train/251.mid', '../data/JSB Chorales/train/241.mid', '../data/JSB Chorales/train/305.mid', '../data/JSB Chorales/train/343.mid', '../data/JSB Chorales/train/287.mid', '../data/JSB Chorales/train/97.mid', '../data/JSB Chorales/train/228.mid', '../data/JSB Chorales/train/130.mid', '../data/JSB Chorales/train/10.mid', '../data/JSB Chorales/train/272.mid', '../data/JSB Chorales/train/5.mid', '../data/JSB Chorales/train/238.mid', '../data/JSB Chorales/train/174.mid', '../data/JSB Chorales/train/104.mid', '../data/JSB Chorales/train/146.mid', '../data/JSB Chorales/train/266.mid', '../data/JSB Chorales/train/190.mid', '../data/JSB Chorales/train/4.mid', '../data/JSB Chorales/train/3.mid', '../data/JSB Chorales/train/172.mid', '../data/JSB Chorales/train/119.mid', '../data/JSB Chorales/train/282.mid', '../data/JSB Chorales/train/139.mid', '../data/JSB Chorales/train/125.mid', '../data/JSB Chorales/train/100.mid', '../data/JSB Chorales/train/362.mid', '../data/JSB Chorales/train/160.mid', '../data/JSB Chorales/train/281.mid', '../data/JSB Chorales/train/378.mid', '../data/JSB Chorales/train/78.mid', '../data/JSB Chorales/train/275.mid', '../data/JSB Chorales/train/379.mid', '../data/JSB Chorales/train/226.mid', '../data/JSB Chorales/train/84.mid', '../data/JSB Chorales/train/49.mid', '../data/JSB Chorales/train/352.mid', '../data/JSB Chorales/train/257.mid', '../data/JSB Chorales/train/372.mid', '../data/JSB Chorales/train/387.mid', '../data/JSB Chorales/train/291.mid', '../data/JSB Chorales/train/360.mid', '../data/JSB Chorales/train/248.mid', '../data/JSB Chorales/train/48.mid', '../data/JSB Chorales/train/141.mid', '../data/JSB Chorales/train/293.mid', '../data/JSB Chorales/train/224.mid', '../data/JSB Chorales/train/96.mid', '../data/JSB Chorales/train/363.mid', '../data/JSB Chorales/train/250.mid', '../data/JSB Chorales/train/301.mid', '../data/JSB Chorales/train/234.mid', '../data/JSB Chorales/train/38.mid', '../data/JSB Chorales/train/177.mid', '../data/JSB Chorales/train/366.mid', '../data/JSB Chorales/train/198.mid', '../data/JSB Chorales/train/342.mid', '../data/JSB Chorales/train/17.mid', '../data/JSB Chorales/train/106.mid', '../data/JSB Chorales/train/353.mid', '../data/JSB Chorales/train/361.mid', '../data/JSB Chorales/train/292.mid', '../data/JSB Chorales/train/140.mid', '../data/JSB Chorales/train/34.mid', '../data/JSB Chorales/train/128.mid', '../data/JSB Chorales/train/296.mid', '../data/JSB Chorales/train/207.mid', '../data/JSB Chorales/train/359.mid', '../data/JSB Chorales/train/159.mid', '../data/JSB Chorales/train/124.mid', '../data/JSB Chorales/train/337.mid', '../data/JSB Chorales/train/109.mid', '../data/JSB Chorales/train/258.mid', '../data/JSB Chorales/train/193.mid', '../data/JSB Chorales/train/75.mid', '../data/JSB Chorales/train/11.mid', '../data/JSB Chorales/train/338.mid', '../data/JSB Chorales/train/185.mid', '../data/JSB Chorales/train/161.mid', '../data/JSB Chorales/train/388.mid', '../data/JSB Chorales/train/53.mid', '../data/JSB Chorales/train/351.mid', '../data/JSB Chorales/train/2.mid', '../data/JSB Chorales/train/285.mid', '../data/JSB Chorales/train/23.mid', '../data/JSB Chorales/train/242.mid', '../data/JSB Chorales/train/103.mid', '../data/JSB Chorales/train/168.mid', '../data/JSB Chorales/train/33.mid', '../data/JSB Chorales/train/327.mid', '../data/JSB Chorales/train/310.mid', '../data/JSB Chorales/train/356.mid', '../data/JSB Chorales/train/154.mid', '../data/JSB Chorales/train/69.mid', '../data/JSB Chorales/train/88.mid', '../data/JSB Chorales/train/205.mid', '../data/JSB Chorales/train/93.mid', '../data/JSB Chorales/train/79.mid', '../data/JSB Chorales/train/164.mid', '../data/JSB Chorales/train/245.mid', '../data/JSB Chorales/train/80.mid', '../data/JSB Chorales/train/218.mid', '../data/JSB Chorales/train/344.mid', '../data/JSB Chorales/train/339.mid', '../data/JSB Chorales/train/73.mid', '../data/JSB Chorales/train/219.mid', '../data/JSB Chorales/train/26.mid', '../data/JSB Chorales/train/274.mid', '../data/JSB Chorales/train/236.mid', '../data/JSB Chorales/train/92.mid', '../data/JSB Chorales/train/32.mid', '../data/JSB Chorales/train/47.mid', '../data/JSB Chorales/train/57.mid', '../data/JSB Chorales/train/306.mid', '../data/JSB Chorales/train/99.mid', '../data/JSB Chorales/train/276.mid', '../data/JSB Chorales/train/179.mid', '../data/JSB Chorales/train/357.mid', '../data/JSB Chorales/train/61.mid', '../data/JSB Chorales/train/21.mid', '../data/JSB Chorales/train/316.mid', '../data/JSB Chorales/train/229.mid', '../data/JSB Chorales/train/315.mid', '../data/JSB Chorales/train/365.mid', '../data/JSB Chorales/train/90.mid', '../data/JSB Chorales/train/300.mid', '../data/JSB Chorales/train/223.mid', '../data/JSB Chorales/train/233.mid', '../data/JSB Chorales/train/332.mid', '../data/JSB Chorales/train/134.mid', '../data/JSB Chorales/train/254.mid', '../data/JSB Chorales/train/18.mid', '../data/JSB Chorales/train/137.mid', '../data/JSB Chorales/train/237.mid', '../data/JSB Chorales/train/249.mid', '../data/JSB Chorales/train/39.mid', '../data/JSB Chorales/train/375.mid', '../data/JSB Chorales/train/298.mid', '../data/JSB Chorales/train/253.mid', '../data/JSB Chorales/train/247.mid', '../data/JSB Chorales/train/175.mid', '../data/JSB Chorales/train/31.mid', '../data/JSB Chorales/train/381.mid', '../data/JSB Chorales/train/165.mid', '../data/JSB Chorales/train/261.mid', '../data/JSB Chorales/train/279.mid', '../data/JSB Chorales/train/37.mid', '../data/JSB Chorales/train/173.mid', '../data/JSB Chorales/train/52.mid', '../data/JSB Chorales/train/294.mid', '../data/JSB Chorales/train/65.mid', '../data/JSB Chorales/train/41.mid', '../data/JSB Chorales/train/277.mid', '../data/JSB Chorales/train/12.mid', '../data/JSB Chorales/train/328.mid', '../data/JSB Chorales/train/123.mid', '../data/JSB Chorales/train/77.mid', '../data/JSB Chorales/train/195.mid', '../data/JSB Chorales/train/162.mid', '../data/JSB Chorales/train/127.mid', '../data/JSB Chorales/train/163.mid', '../data/JSB Chorales/train/156.mid', '../data/JSB Chorales/train/349.mid', '../data/JSB Chorales/train/117.mid', '../data/JSB Chorales/train/322.mid', '../data/JSB Chorales/train/246.mid', '../data/JSB Chorales/train/212.mid', '../data/JSB Chorales/train/239.mid', '../data/JSB Chorales/train/384.mid', '../data/JSB Chorales/train/110.mid', '../data/JSB Chorales/train/45.mid', '../data/JSB Chorales/train/334.mid', '../data/JSB Chorales/train/215.mid', '../data/JSB Chorales/train/148.mid', '../data/JSB Chorales/train/373.mid', '../data/JSB Chorales/train/150.mid', '../data/JSB Chorales/train/71.mid', '../data/JSB Chorales/train/217.mid', '../data/JSB Chorales/train/135.mid', '../data/JSB Chorales/train/22.mid', '../data/JSB Chorales/train/269.mid', '../data/JSB Chorales/train/76.mid', '../data/JSB Chorales/train/382.mid', '../data/JSB Chorales/train/314.mid', '../data/JSB Chorales/train/270.mid', '../data/JSB Chorales/train/364.mid', '../data/JSB Chorales/train/145.mid', '../data/JSB Chorales/train/8.mid', '../data/JSB Chorales/train/126.mid', '../data/JSB Chorales/train/63.mid', '../data/JSB Chorales/train/197.mid', '../data/JSB Chorales/train/89.mid', '../data/JSB Chorales/train/268.mid', '../data/JSB Chorales/train/19.mid', '../data/JSB Chorales/train/51.mid', '../data/JSB Chorales/train/313.mid', '../data/JSB Chorales/train/286.mid', '../data/JSB Chorales/train/16.mid', '../data/JSB Chorales/train/142.mid', '../data/JSB Chorales/train/304.mid', '../data/JSB Chorales/train/347.mid', '../data/JSB Chorales/train/13.mid', '../data/JSB Chorales/train/232.mid', '../data/JSB Chorales/train/158.mid', '../data/JSB Chorales/train/206.mid', '../data/JSB Chorales/train/311.mid', '../data/JSB Chorales/train/308.mid', '../data/JSB Chorales/train/302.mid', '../data/JSB Chorales/train/83.mid', '../data/JSB Chorales/train/333.mid', '../data/JSB Chorales/train/98.mid']\n"
       ]
      }
     ],
     "prompt_number": 25
    },
    {
     "cell_type": "code",
     "collapsed": false,
     "input": [
      " dataset = [midiread(f, r,\n",
      "                        dt).piano_roll.astype(theano.config.floatX)\n",
      "                   for f in files]"
     ],
     "language": "python",
     "metadata": {},
     "outputs": [],
     "prompt_number": 12
    },
    {
     "cell_type": "code",
     "collapsed": false,
     "input": [
      "len(dataset)\n",
      "import numpy as np\n",
      "print [ np.shape(i) for i in dataset]\n",
      "seq = dataset[0]\n",
      "seq.shape\n"
     ],
     "language": "python",
     "metadata": {},
     "outputs": [
      {
       "output_type": "stream",
       "stream": "stdout",
       "text": [
        "[(130, 88), (152, 88), (83, 88), (123, 88), (130, 88), (98, 88), (226, 88), (115, 88), (98, 88), (152, 88), (145, 88), (115, 88), (152, 88), (66, 88), (145, 88), (104, 88), (146, 88), (98, 88), (168, 88), (98, 88), (113, 88), (128, 88), (123, 88), (126, 88), (186, 88), (120, 88), (78, 88), (96, 88), (219, 88), (115, 88), (66, 88), (130, 88), (136, 88), (66, 88), (66, 88), (240, 88), (83, 88), (66, 88), (176, 88), (210, 88), (130, 88), (66, 88), (130, 88), (136, 88), (96, 88), (130, 88), (130, 88), (115, 88), (138, 88), (104, 88), (90, 88), (128, 88), (108, 88), (136, 88), (113, 88), (98, 88), (74, 88), (196, 88), (98, 88), (96, 88), (120, 88), (136, 88), (123, 88), (98, 88), (106, 88), (170, 88), (96, 88), (98, 88), (216, 88), (83, 88), (130, 88), (130, 88), (166, 88), (152, 88), (98, 88), (128, 88), (106, 88), (120, 88), (96, 88), (98, 88), (115, 88), (66, 88), (115, 88), (98, 88), (88, 88), (66, 88), (130, 88), (130, 88), (103, 88), (83, 88), (98, 88), (128, 88), (123, 88), (80, 88), (83, 88), (128, 88), (130, 88), (83, 88), (50, 88), (128, 88), (90, 88), (90, 88), (170, 88), (104, 88), (152, 88), (90, 88), (83, 88), (126, 88), (123, 88), (123, 88), (226, 88), (106, 88), (115, 88), (259, 88), (155, 88), (66, 88), (130, 88), (104, 88), (130, 88), (66, 88), (115, 88), (83, 88), (138, 88), (172, 88), (98, 88), (66, 88), (83, 88), (115, 88), (130, 88), (116, 88), (96, 88), (88, 88), (216, 88), (130, 88), (96, 88), (90, 88), (66, 88), (66, 88), (98, 88), (192, 88), (98, 88), (96, 88), (115, 88), (88, 88), (106, 88), (83, 88), (83, 88), (165, 88), (115, 88), (128, 88), (104, 88), (66, 88), (98, 88), (130, 88), (115, 88), (98, 88), (100, 88), (104, 88), (123, 88), (145, 88), (90, 88), (130, 88), (83, 88), (130, 88), (74, 88), (145, 88), (98, 88), (98, 88), (90, 88), (130, 88), (130, 88), (115, 88), (98, 88), (136, 88), (166, 88), (152, 88), (130, 88), (115, 88), (130, 88), (130, 88), (202, 88), (229, 88), (219, 88), (104, 88), (115, 88), (66, 88), (83, 88), (83, 88), (146, 88), (104, 88), (195, 88), (96, 88), (74, 88), (138, 88), (152, 88), (130, 88), (130, 88), (132, 88), (155, 88), (130, 88), (256, 88), (98, 88), (219, 88), (96, 88), (66, 88), (66, 88), (130, 88), (96, 88), (152, 88), (115, 88), (98, 88), (96, 88), (120, 88), (123, 88), (146, 88), (178, 88), (123, 88), (160, 88), (115, 88), (115, 88), (155, 88), (130, 88), (96, 88), (192, 88), (168, 88), (98, 88), (110, 88), (83, 88), (205, 88)]\n"
       ]
      },
      {
       "metadata": {},
       "output_type": "pyout",
       "prompt_number": 22,
       "text": [
        "(130, 88)"
       ]
      }
     ],
     "prompt_number": 22
    },
    {
     "cell_type": "code",
     "collapsed": false,
     "input": [],
     "language": "python",
     "metadata": {},
     "outputs": []
    }
   ],
   "metadata": {}
  }
 ]
}