{
 "metadata": {
  "name": ""
 },
 "nbformat": 3,
 "nbformat_minor": 0,
 "worksheets": [
  {
   "cells": [
    {
     "cell_type": "code",
     "collapsed": false,
     "input": [
      "from train_midi import MusicBrain\n",
      "m_brain = MusicBrain()\n",
      "m_brain.simple_RNN(0, 0, load_file='musicbrain.pkl')"
     ],
     "language": "python",
     "metadata": {},
     "outputs": [
      {
       "ename": "TypeError",
       "evalue": "__init__() takes exactly 2 arguments (1 given)",
       "output_type": "pyerr",
       "traceback": [
        "\u001b[0;31m---------------------------------------------------------------------------\u001b[0m\n\u001b[0;31mTypeError\u001b[0m                                 Traceback (most recent call last)",
        "\u001b[0;32m<ipython-input-27-b099e953a224>\u001b[0m in \u001b[0;36m<module>\u001b[0;34m()\u001b[0m\n\u001b[1;32m      1\u001b[0m \u001b[0;32mfrom\u001b[0m \u001b[0mtrain_midi\u001b[0m \u001b[0;32mimport\u001b[0m \u001b[0mMusicBrain\u001b[0m\u001b[0;34m\u001b[0m\u001b[0m\n\u001b[0;32m----> 2\u001b[0;31m \u001b[0mm_brain\u001b[0m \u001b[0;34m=\u001b[0m \u001b[0mMusicBrain\u001b[0m\u001b[0;34m(\u001b[0m\u001b[0;34m)\u001b[0m\u001b[0;34m\u001b[0m\u001b[0m\n\u001b[0m\u001b[1;32m      3\u001b[0m \u001b[0mm_brain\u001b[0m\u001b[0;34m.\u001b[0m\u001b[0msimple_RNN\u001b[0m\u001b[0;34m(\u001b[0m\u001b[0;36m0\u001b[0m\u001b[0;34m,\u001b[0m \u001b[0;36m0\u001b[0m\u001b[0;34m,\u001b[0m \u001b[0mload_file\u001b[0m\u001b[0;34m=\u001b[0m\u001b[0;34m'musicbrain.pkl'\u001b[0m\u001b[0;34m)\u001b[0m\u001b[0;34m\u001b[0m\u001b[0m\n",
        "\u001b[0;31mTypeError\u001b[0m: __init__() takes exactly 2 arguments (1 given)"
       ]
      }
     ],
     "prompt_number": 27
    },
    {
     "cell_type": "code",
     "collapsed": false,
     "input": [
      "m_brain.generate_sample()"
     ],
     "language": "python",
     "metadata": {},
     "outputs": [],
     "prompt_number": 6
    },
    {
     "cell_type": "code",
     "collapsed": false,
     "input": [
      "import cPickle\n",
      "import matplotlib.pyplot as plt\n",
      "with open('sgrnn_plot_save.pkl') as f:\n",
      "    l = cPickle.load(f)\n",
      "    \n",
      "scores = [i[0] for i in l]\n",
      "inter = [0]\n",
      "factor = 1.0\n",
      "for i in range(len(scores) -1):\n",
      "    if i % 5 == 4:\n",
      "        factor *= 0.75\n",
      "        factor *= 1.65\n",
      "    inter.append(inter[-1] + factor)\n",
      "    \n",
      "print len(scores)\n",
      "print len(inter)\n",
      "    \n",
      "plt.plot(inter, scores)\n",
      "plt.title('Error on training data')\n",
      "plt.ylabel('Cross-correlation error.')\n",
      "plt.xlabel('HFO steps')\n",
      "plt.savefig(\"sgrnn_training\", dpi=100)\n",
      "plt.show()"
     ],
     "language": "python",
     "metadata": {},
     "outputs": [
      {
       "output_type": "stream",
       "stream": "stdout",
       "text": [
        "30\n",
        "30\n"
       ]
      }
     ],
     "prompt_number": 28
    },
    {
     "cell_type": "code",
     "collapsed": false,
     "input": [
      "with open('save_20_n_plot.pkl') as f:\n",
      "    l = cPickle.load(f)\n",
      "    \n",
      "scores_20 = [i[0] for i in l[:20]]\n",
      "plt.plot(inter, scores, range(len(scores_20)), scores_20)\n",
      "plt.title('Error on training data')\n",
      "plt.ylabel('Cross-correlation error.')\n",
      "plt.xlabel('HFO steps')\n",
      "plt.savefig(\"sgrnn_training\", dpi=100)\n",
      "plt.show()"
     ],
     "language": "python",
     "metadata": {},
     "outputs": [],
     "prompt_number": 29
    },
    {
     "cell_type": "code",
     "collapsed": false,
     "input": [
      "with open('save_40_n_plot.pkl') as f:\n",
      "    l = cPickle.load(f)\n",
      "    \n",
      "scores_40 = [i[0] for i in l[:-10]]\n",
      "\n",
      "plt.plot(inter, scores, range(len(scores_20)), scores_20, [2* i for i in range(len(scores_40))], scores_40)\n",
      "plt.title('Error on training data')\n",
      "plt.ylabel('Cross-correlation error.')\n",
      "plt.xlabel('HFO steps')\n",
      "plt.savefig(\"sgrnn_training\", dpi=100)\n",
      "plt.show()"
     ],
     "language": "python",
     "metadata": {},
     "outputs": [],
     "prompt_number": 32
    },
    {
     "cell_type": "code",
     "collapsed": false,
     "input": [],
     "language": "python",
     "metadata": {},
     "outputs": []
    }
   ],
   "metadata": {}
  }
 ]
}