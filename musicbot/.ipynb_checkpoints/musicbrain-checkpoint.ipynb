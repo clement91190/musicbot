{
 "metadata": {
  "name": ""
 },
 "nbformat": 3,
 "nbformat_minor": 0,
 "worksheets": [
  {
   "cells": [
    {
     "cell_type": "code",
     "collapsed": false,
     "input": [
      "from train_midi import MusicBrain\n",
      "m_brain = MusicBrain()\n",
      "m_brain.simple_RNN(0, 0, load_file='musicbrain.pkl')"
     ],
     "language": "python",
     "metadata": {},
     "outputs": [
      {
       "output_type": "stream",
       "stream": "stdout",
       "text": [
        "generating dataset...\n",
        "number of sequence for training : "
       ]
      },
      {
       "output_type": "stream",
       "stream": "stdout",
       "text": [
        " 4773\n"
       ]
      }
     ],
     "prompt_number": 5
    },
    {
     "cell_type": "code",
     "collapsed": false,
     "input": [
      "m_brain.generate_sample()"
     ],
     "language": "python",
     "metadata": {},
     "outputs": [],
     "prompt_number": 6
    },
    {
     "cell_type": "code",
     "collapsed": false,
     "input": [
      "import cPickle\n",
      "\n",
      "with open('sgrnn_plot_save.pkl') as f:\n",
      "    l = cPickle.load(f)\n",
      "    \n",
      "scores = [i[0] for i in l]\n"
     ],
     "language": "python",
     "metadata": {},
     "outputs": [],
     "prompt_number": 1
    },
    {
     "cell_type": "code",
     "collapsed": false,
     "input": [],
     "language": "python",
     "metadata": {},
     "outputs": []
    }
   ],
   "metadata": {}
  }
 ]
}