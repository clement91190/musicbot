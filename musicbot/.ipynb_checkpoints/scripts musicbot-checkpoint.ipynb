{
 "metadata": {
  "name": ""
 },
 "nbformat": 3,
 "nbformat_minor": 0,
 "worksheets": [
  {
   "cells": [
    {
     "cell_type": "code",
     "collapsed": false,
     "input": [
      "import numpy as np\n",
      "import matplotlib.pyplot as plt\n",
      "import cPickle\n",
      "\n",
      "\n",
      "def plot_list_from_file(path='plot_cost_value.pkl', title='Training RMSE'):\n",
      "    with open(path) as f:\n",
      "        y = cPickle.load(f)\n",
      "    x = range(len(y))\n",
      "    \n",
      "    \n",
      "    print y\n",
      "    print x\n",
      "    plt.plot(x, y)\n",
      "    plt.title(title)\n",
      "    plt.ylabel('rmse')\n",
      "    plt.xlabel('HF steps')\n",
      "    plt.show()"
     ],
     "language": "python",
     "metadata": {},
     "outputs": [],
     "prompt_number": 3
    },
    {
     "cell_type": "code",
     "collapsed": false,
     "input": [
      "plot_list_from_file()\n",
      "plot_list_from_file( 'test_errors.pkl', title='Testing error')"
     ],
     "language": "python",
     "metadata": {},
     "outputs": [
      {
       "output_type": "stream",
       "stream": "stdout",
       "text": [
        "[0.28808218, 0.20233916, 0.14670376, 0.12300116, 0.11328059, 0.108256, 0.093093723, 0.080344275, 0.074937627, 0.068019316, 0.068019301]\n",
        "[0, 1, 2, 3, 4, 5, 6, 7, 8, 9, 10]\n"
       ]
      }
     ],
     "prompt_number": 4
    },
    {
     "cell_type": "code",
     "collapsed": false,
     "input": [],
     "language": "python",
     "metadata": {},
     "outputs": []
    }
   ],
   "metadata": {}
  }
 ]
}