{
 "metadata": {
  "name": ""
 },
 "nbformat": 3,
 "nbformat_minor": 0,
 "worksheets": [
  {
   "cells": [
    {
     "cell_type": "code",
     "collapsed": false,
     "input": [
      "import numpy as np\n",
      "import matplotlib.pyplot as plt\n",
      "import cPickle\n",
      "\n",
      "\n",
      "def plot_list_from_file(path='plot_cost_value.pkl', title='Training RMSE'):\n",
      "    with open(path) as f:\n",
      "        y = cPickle.load(f)\n",
      "    x = range(len(y))\n",
      "    \n",
      "    \n",
      "    print y\n",
      "    print x\n",
      "    plt.plot(x, y)\n",
      "    plt.title(title)\n",
      "    plt.ylabel('rmse')\n",
      "    plt.xlabel('HF steps')\n",
      "    plt.show()"
     ],
     "language": "python",
     "metadata": {},
     "outputs": [],
     "prompt_number": 4
    },
    {
     "cell_type": "code",
     "collapsed": false,
     "input": [
      "plot_list_from_file()\n"
     ],
     "language": "python",
     "metadata": {},
     "outputs": [
      {
       "output_type": "stream",
       "stream": "stdout",
       "text": [
        "[0.28592584, 0.092639826, 0.2612682, 0.1835691, 0.096519709, 0.19942836, 0.13171811, 0.15499569, 0.12077568, 0.13703479, 0.14914075, 0.11422244, 0.20506705, 0.16157684, 0.16182242, 0.091540657, 0.11094972, 0.12158158, 0.16480312, 0.15028061, 0.12666343, 0.20542991, 0.12497852, 0.1269688, 0.1967302, 0.13643919, 0.1309406, 0.13189793, 0.12457829, 0.1328657, 0.13744943, 0.12303956, 0.13123704, 0.1147742, 0.13115616, 0.12629099, 0.12276568, 0.14111854, 0.12853865, 0.13052563, 0.11731633, 0.12734857, 0.11864089, 0.12584837, 0.12878534, 0.11361782, 0.11858645, 0.12190804, 0.12719895, 0.12177709, 0.11882378, 0.12687281, 0.12694781, 0.12025598, 0.11685667, 0.12437249, 0.12472694, 0.11902181, 0.13036323, 0.11695874]\n",
        "[0, 1, 2, 3, 4, 5, 6, 7, 8, 9, 10, 11, 12, 13, 14, 15, 16, 17, 18, 19, 20, 21, 22, 23, 24, 25, 26, 27, 28, 29, 30, 31, 32, 33, 34, 35, 36, 37, 38, 39, 40, 41, 42, 43, 44, 45, 46, 47, 48, 49, 50, 51, 52, 53, 54, 55, 56, 57, 58, 59]\n"
       ]
      }
     ],
     "prompt_number": 5
    },
    {
     "cell_type": "code",
     "collapsed": false,
     "input": [
      "plot_list_from_file( 'test_errors.pkl', title='Testing error')"
     ],
     "language": "python",
     "metadata": {},
     "outputs": [
      {
       "output_type": "stream",
       "stream": "stdout",
       "text": [
        "[420.24493, 96.005226, 119.64143, 102.19429, 96.494637, 116.74185, 102.11417, 103.19753, 88.939133, 106.58157, 97.095886, 86.42205, 109.65604, 91.596756, 90.744461, 93.893318, 102.61829, 96.535461, 92.025345, 88.990761, 98.75412, 99.530426, 86.269646, 92.80426, 94.031731, 81.598137, 81.652115, 82.29834, 80.039818, 79.915321, 79.562683, 79.680977, 79.644028, 79.487106, 79.673859, 79.743912, 79.703506, 79.267235, 79.34964, 79.858063, 79.585625, 79.616119, 79.451218, 79.221992, 79.667679, 79.696915, 79.201668, 80.126892, 78.563576, 79.287537, 79.235466, 78.993675, 79.247238, 79.101486, 79.428902, 79.081863, 79.454247, 80.255013, 78.889809, 79.142563, 79.022118, 78.879272, 79.714325]\n",
        "[0, 1, 2, 3, 4, 5, 6, 7, 8, 9, 10, 11, 12, 13, 14, 15, 16, 17, 18, 19, 20, 21, 22, 23, 24, 25, 26, 27, 28, 29, 30, 31, 32, 33, 34, 35, 36, 37, 38, 39, 40, 41, 42, 43, 44, 45, 46, 47, 48, 49, 50, 51, 52, 53, 54, 55, 56, 57, 58, 59, 60, 61, 62]\n"
       ]
      }
     ],
     "prompt_number": 6
    },
    {
     "cell_type": "raw",
     "metadata": {},
     "source": [
      "Experiment with the weight matrix, previously trained to remember the first input of a binary 100 timesteps random sequences. \n"
     ]
    },
    {
     "cell_type": "code",
     "collapsed": false,
     "input": [
      "import cPickle\n",
      "import networkx as nx\n",
      "import numpy as np\n",
      "import matplotlib.pyplot as plt\n",
      "with open('data/weight_matrix.pkl') as f:\n",
      "    whh = cPickle.load(f)"
     ],
     "language": "python",
     "metadata": {},
     "outputs": [],
     "prompt_number": 14
    },
    {
     "cell_type": "code",
     "collapsed": false,
     "input": [
      "whh.shape\n"
     ],
     "language": "python",
     "metadata": {},
     "outputs": [
      {
       "metadata": {},
       "output_type": "pyout",
       "prompt_number": 15,
       "text": [
        "(100, 100)"
       ]
      }
     ],
     "prompt_number": 15
    },
    {
     "cell_type": "code",
     "collapsed": false,
     "input": [
      "graph = nx.Graph(np.array(whh, dtype = [('weight', float)]))"
     ],
     "language": "python",
     "metadata": {},
     "outputs": [],
     "prompt_number": 16
    },
    {
     "cell_type": "code",
     "collapsed": false,
     "input": [
      "#pos=nx.spring_layout(graph)\n",
      "pos=nx.spectral_layout(graph)\n",
      "#print pos\n",
      "elarge=[(u,v) for (u,v,d) in graph.edges(data=True) if d['weight'] > 0.15]\n",
      "esmall=[(u,v) for (u,v,d) in graph.edges(data=True) if d['weight'] < -0.15]\n",
      "nx.draw_networkx_edges(graph, pos, edgelist=elarge, width=0.1, edge_color='b')\n",
      "nx.draw_networkx_edges(graph, pos, edgelist=esmall, width=0.1, )\n",
      "nx.draw_networkx_nodes(graph, pos, node_size=10)\n",
      "plt.axis('off')\n",
      "plt.savefig(\"weighted_graph_spectral.png\", dpi=100) # save as png\n",
      "plt.show() # display"
     ],
     "language": "python",
     "metadata": {},
     "outputs": [],
     "prompt_number": 17
    },
    {
     "cell_type": "code",
     "collapsed": false,
     "input": [
      "print np.mean(whh)\n",
      "print np.max(whh)\n",
      "print np.min(whh)\n",
      "whh_abs = abs( whh)\n",
      "print np.mean(whh_abs)\n",
      "print np.min(whh_abs)\n",
      "\n",
      "def plot_weight_distribution(w, n=100):\n",
      "    \n",
      "    w_max = np.max(w)\n",
      "    w_min = np.min(w)\n",
      "    \n",
      "    #inter = np.logspace(np.log(w_min), np.log(w_max), n)\n",
      "    inter = np.linspace(w_min, w_max, n)\n",
      "    print inter\n",
      "    eps = (w_max - w_min) / n\n",
      "    weight_list = [ 0 for i in range(len(inter))]\n",
      "    for i in w:\n",
      "        for j in i:\n",
      "            val = j\n",
      "            for ind, v in enumerate(inter[:-1]):\n",
      "                if v <= val < inter[ind + 1]:\n",
      "                    weight_list[ind] += 1 / ( inter[ind + 1] - v) \n",
      "    return weight_list / np.sum(weight_list), inter\n",
      "            \n",
      "w_list, intervals = plot_weight_distribution(whh_abs)\n",
      "print w_list\n",
      "plt.plot(intervals, w_list)\n",
      "plt.title('Distribution of the absolute value of the weights')\n",
      "plt.ylabel('')\n",
      "plt.xlabel('Weight')\n",
      "plt.savefig(\"abs_weight_distribution\", dpi=100)\n",
      "w_list, intervals = plot_weight_distribution(whh)\n",
      "#print w_list\n",
      "#plt.plot(intervals, w_list)\n",
      "#plt.title('Distribution of the weights')\n",
      "#plt.ylabel('')\n",
      "#plt.xlabel('Weight')\n",
      "#plt.savefig(\"weight_distribution\", dpi=100)\n",
      "\n",
      "plt.show()\n"
     ],
     "language": "python",
     "metadata": {},
     "outputs": [
      {
       "output_type": "stream",
       "stream": "stdout",
       "text": [
        "-0.00100584\n",
        "0.234827\n",
        "-0.234201\n",
        "0.0999132\n",
        "4.00321e-05\n",
        "[  4.00320860e-05   2.41161879e-03   4.78320550e-03   7.15479221e-03\n",
        "   9.52637892e-03   1.18979656e-02   1.42695523e-02   1.66411390e-02\n",
        "   1.90127257e-02   2.13843125e-02   2.37558992e-02   2.61274859e-02\n",
        "   2.84990726e-02   3.08706593e-02   3.32422460e-02   3.56138327e-02\n",
        "   3.79854194e-02   4.03570061e-02   4.27285928e-02   4.51001795e-02\n",
        "   4.74717662e-02   4.98433529e-02   5.22149397e-02   5.45865264e-02\n",
        "   5.69581131e-02   5.93296998e-02   6.17012865e-02   6.40728732e-02\n",
        "   6.64444599e-02   6.88160466e-02   7.11876333e-02   7.35592200e-02\n",
        "   7.59308067e-02   7.83023934e-02   8.06739801e-02   8.30455668e-02\n",
        "   8.54171536e-02   8.77887403e-02   9.01603270e-02   9.25319137e-02\n",
        "   9.49035004e-02   9.72750871e-02   9.96466738e-02   1.02018261e-01\n",
        "   1.04389847e-01   1.06761434e-01   1.09133021e-01   1.11504607e-01\n",
        "   1.13876194e-01   1.16247781e-01   1.18619367e-01   1.20990954e-01\n",
        "   1.23362541e-01   1.25734128e-01   1.28105714e-01   1.30477301e-01\n",
        "   1.32848888e-01   1.35220474e-01   1.37592061e-01   1.39963648e-01\n",
        "   1.42335235e-01   1.44706821e-01   1.47078408e-01   1.49449995e-01\n",
        "   1.51821581e-01   1.54193168e-01   1.56564755e-01   1.58936341e-01\n",
        "   1.61307928e-01   1.63679515e-01   1.66051102e-01   1.68422688e-01\n",
        "   1.70794275e-01   1.73165862e-01   1.75537448e-01   1.77909035e-01\n",
        "   1.80280622e-01   1.82652209e-01   1.85023795e-01   1.87395382e-01\n",
        "   1.89766969e-01   1.92138555e-01   1.94510142e-01   1.96881729e-01\n",
        "   1.99253316e-01   2.01624902e-01   2.03996489e-01   2.06368076e-01\n",
        "   2.08739662e-01   2.11111249e-01   2.13482836e-01   2.15854422e-01\n",
        "   2.18226009e-01   2.20597596e-01   2.22969183e-01   2.25340769e-01\n",
        "   2.27712356e-01   2.30083943e-01   2.32455529e-01   2.34827116e-01]\n",
        "[ 0.01130113  0.01230123  0.01210121  0.01340134  0.01270127  0.01150115\n",
        "  0.01260126  0.01160116  0.01260126  0.00990099  0.01330133  0.01140114\n",
        "  0.01160116  0.01120112  0.01220122  0.01090109  0.01250125  0.01450145\n",
        "  0.01290129  0.01150115  0.01430143  0.01230123  0.0120012   0.01270127\n",
        "  0.0110011   0.01170117  0.01390139  0.01040104  0.01010101  0.01310131\n",
        "  0.01120112  0.01050105  0.01170117  0.01090109  0.01050105  0.01280128\n",
        "  0.01310131  0.01210121  0.01060106  0.01190119  0.01240124  0.00940094\n",
        "  0.01160116  0.01120112  0.01150115  0.010001    0.01240124  0.01190119\n",
        "  0.01320132  0.01130113  0.01250125  0.01140114  0.01120112  0.01360136\n",
        "  0.01210121  0.01040104  0.01410141  0.01210121  0.01070107  0.0120012\n",
        "  0.01120112  0.01210121  0.0110011   0.01150115  0.0130013   0.01070107\n",
        "  0.01330133  0.01280128  0.01110111  0.01110111  0.01150115  0.01080108\n",
        "  0.01270127  0.01160116  0.00990099  0.01240124  0.00990099  0.01080108\n",
        "  0.01040104  0.00880088  0.00980098  0.00790079  0.00780078  0.00750075\n",
        "  0.00580058  0.00510051  0.00310031  0.00320032  0.00210021  0.00190019\n",
        "  0.00180018  0.00090009  0.00080008  0.00040004  0.00050005  0.00050005\n",
        "  0.00010001  0.00010001  0.00020002  0.        ]"
       ]
      },
      {
       "output_type": "stream",
       "stream": "stdout",
       "text": [
        "\n",
        "[-0.23420143 -0.22946377 -0.22472611 -0.21998844 -0.21525078 -0.21051312\n",
        " -0.20577546 -0.2010378  -0.19630013 -0.19156247 -0.18682481 -0.18208715\n",
        " -0.17734949 -0.17261182 -0.16787416 -0.1631365  -0.15839884 -0.15366118\n",
        " -0.14892351 -0.14418585 -0.13944819 -0.13471053 -0.12997287 -0.1252352\n",
        " -0.12049754 -0.11575988 -0.11102222 -0.10628455 -0.10154689 -0.09680923\n",
        " -0.09207157 -0.08733391 -0.08259624 -0.07785858 -0.07312092 -0.06838326\n",
        " -0.0636456  -0.05890793 -0.05417027 -0.04943261 -0.04469495 -0.03995729\n",
        " -0.03521962 -0.03048196 -0.0257443  -0.02100664 -0.01626897 -0.01153131\n",
        " -0.00679365 -0.00205599  0.00268167  0.00741934  0.012157    0.01689466\n",
        "  0.02163232  0.02636998  0.03110765  0.03584531  0.04058297  0.04532063\n",
        "  0.05005829  0.05479596  0.05953362  0.06427128  0.06900894  0.0737466\n",
        "  0.07848427  0.08322193  0.08795959  0.09269725  0.09743492  0.10217258\n",
        "  0.10691024  0.1116479   0.11638556  0.12112323  0.12586089  0.13059855\n",
        "  0.13533621  0.14007387  0.14481154  0.1495492   0.15428686  0.15902452\n",
        "  0.16376218  0.16849985  0.17323751  0.17797517  0.18271283  0.1874505\n",
        "  0.19218816  0.19692582  0.20166348  0.20640114  0.21113881  0.21587647\n",
        "  0.22061413  0.22535179  0.23008945  0.23482712]"
       ]
      },
      {
       "output_type": "stream",
       "stream": "stdout",
       "text": [
        "\n"
       ]
      }
     ],
     "prompt_number": 61
    },
    {
     "cell_type": "code",
     "collapsed": false,
     "input": [
      "np.linspace(0, 100, 50)"
     ],
     "language": "python",
     "metadata": {},
     "outputs": [
      {
       "ename": "TypeError",
       "evalue": "linspace() got an unexpected keyword argument 'restep'",
       "output_type": "pyerr",
       "traceback": [
        "\u001b[0;31m---------------------------------------------------------------------------\u001b[0m\n\u001b[0;31mTypeError\u001b[0m                                 Traceback (most recent call last)",
        "\u001b[0;32m<ipython-input-34-1dfc1bc355af>\u001b[0m in \u001b[0;36m<module>\u001b[0;34m()\u001b[0m\n\u001b[0;32m----> 1\u001b[0;31m \u001b[0mnp\u001b[0m\u001b[0;34m.\u001b[0m\u001b[0mlinspace\u001b[0m\u001b[0;34m(\u001b[0m\u001b[0;36m0\u001b[0m\u001b[0;34m,\u001b[0m \u001b[0;36m100\u001b[0m\u001b[0;34m,\u001b[0m \u001b[0;36m50\u001b[0m\u001b[0;34m,\u001b[0m \u001b[0mrestep\u001b[0m\u001b[0;34m=\u001b[0m\u001b[0mTrue\u001b[0m\u001b[0;34m)\u001b[0m\u001b[0;34m\u001b[0m\u001b[0m\n\u001b[0m",
        "\u001b[0;31mTypeError\u001b[0m: linspace() got an unexpected keyword argument 'restep'"
       ]
      }
     ],
     "prompt_number": 34
    },
    {
     "cell_type": "code",
     "collapsed": false,
     "input": [],
     "language": "python",
     "metadata": {},
     "outputs": []
    }
   ],
   "metadata": {}
  }
 ]
}